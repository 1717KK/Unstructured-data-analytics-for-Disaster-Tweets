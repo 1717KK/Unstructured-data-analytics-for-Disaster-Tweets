{
 "cells": [
  {
   "cell_type": "code",
   "execution_count": 44,
   "metadata": {},
   "outputs": [],
   "source": [
    "## Import package\n",
    "import numpy as np\n",
    "\n",
    "# import pandas as pd\n",
    "# from __future__ import print_function, division\n",
    "# import os\n",
    "import torch\n",
    "# from skimage import io, transform\n",
    "# import matplotlib.pyplot as plt\n",
    "# from torch.utils.data import Dataset, DataLoader\n",
    "from torchvision import transforms, utils,datasets, models\n",
    "# import torchvision\n",
    "# from torch.utils.data.sampler import SubsetRandomSampler\n",
    "import torch.nn.functional as F\n",
    "import torch.nn as nn\n",
    "# import torch.optim as optim\n",
    "from torch.optim import lr_scheduler\n",
    "import time \n",
    "import copy\n",
    "from collections import namedtuple\n",
    "%matplotlib inline\n",
    "import matplotlib.pyplot as plt\n",
    "# # Ignore warnings\n",
    "# import warnings\n",
    "# warnings.filterwarnings(\"ignore\")\n",
    "\n",
    "# plt.ion()   # interactive mode"
   ]
  },
  {
   "cell_type": "markdown",
   "metadata": {},
   "source": [
    "### Load Raw Data"
   ]
  },
  {
   "cell_type": "code",
   "execution_count": 2,
   "metadata": {},
   "outputs": [
    {
     "data": {
      "text/plain": [
       "(10876, 2)"
      ]
     },
     "execution_count": 2,
     "metadata": {},
     "output_type": "execute_result"
    }
   ],
   "source": [
    "import csv\n",
    "with open('socialmedia-disaster-tweets-DFE-cleaned2.csv', newline='', encoding=\"utf8\", errors='ignore') as csvfile:\n",
    "    data = list(csv.reader(csvfile))\n",
    "\n",
    "data = np.array(data)\n",
    "data.shape"
   ]
  },
  {
   "cell_type": "code",
   "execution_count": 3,
   "metadata": {},
   "outputs": [],
   "source": [
    "## Load Train, Dev and Test Label\n",
    "train_size = 8000\n",
    "val_size = 2876\n",
    "#test_size = 876\n",
    "#trainX = data[0:train_size,1]\n",
    "trainY = data[0:train_size,0].astype(float)\n",
    "#devX = data[train_size:(train_size+val_size),1]\n",
    "valY = data[train_size:(train_size+val_size),0].astype(float)\n",
    "#testX = data[(train_size+val_size):(train_size+val_size+test_size),1]\n",
    "#testY = data[(train_size+val_size):(train_size+val_size+test_size),0].astype(float)\n",
    "dataX = data[:,1]\n",
    "# testX = loader.test"
   ]
  },
  {
   "cell_type": "markdown",
   "metadata": {},
   "source": [
    "### Transform Loaded Data "
   ]
  },
  {
   "cell_type": "code",
   "execution_count": 4,
   "metadata": {},
   "outputs": [],
   "source": [
    "from sklearn.feature_extraction.text import CountVectorizer\n",
    "vectorizer = CountVectorizer(min_df = 50, stop_words=\"english\", max_df=0.8)\n",
    "X = vectorizer.fit_transform(dataX)"
   ]
  },
  {
   "cell_type": "code",
   "execution_count": 5,
   "metadata": {},
   "outputs": [
    {
     "data": {
      "text/plain": [
       "(10876, 314)"
      ]
     },
     "execution_count": 5,
     "metadata": {},
     "output_type": "execute_result"
    }
   ],
   "source": [
    "X.shape"
   ]
  },
  {
   "cell_type": "code",
   "execution_count": 6,
   "metadata": {},
   "outputs": [],
   "source": [
    "## Load Train, Dev and Test X\n",
    "trainX = X[0:train_size]\n",
    "valX = X[train_size:(train_size+val_size)]\n",
    "#testX = X[(train_size+val_size):(train_size+val_size+test_size)]"
   ]
  },
  {
   "cell_type": "code",
   "execution_count": 7,
   "metadata": {},
   "outputs": [],
   "source": [
    "trainX = trainX.toarray()\n",
    "valX = valX.toarray()\n",
    "#testX = testX.toarray()"
   ]
  },
  {
   "cell_type": "code",
   "execution_count": 8,
   "metadata": {},
   "outputs": [],
   "source": [
    "trainx = torch.from_numpy(trainX).float()\n",
    "valx = torch.from_numpy(valX).float()\n",
    "#testx = torch.from_numpy(testX).float()\n",
    "trainy = torch.from_numpy(trainY)\n",
    "valy = torch.from_numpy(valY)\n",
    "#testy = torch.from_numpy(testY)"
   ]
  },
  {
   "cell_type": "code",
   "execution_count": 9,
   "metadata": {},
   "outputs": [],
   "source": [
    "class DataLoader(object):\n",
    "    def __init__(self,X,Y):\n",
    "        self.x = X\n",
    "        self.y = Y\n",
    "    \n",
    "    def __getitem__(self,index):\n",
    "        x, y = self.x[index], self.y[index]\n",
    "        return x,y\n",
    "    \n",
    "    def __len__(self):\n",
    "        return len(self.x)"
   ]
  },
  {
   "cell_type": "code",
   "execution_count": 10,
   "metadata": {},
   "outputs": [],
   "source": [
    "train_loader = DataLoader(trainx,trainy)\n",
    "val_loader = DataLoader(valx, valy)\n",
    "#test_loader = DataLoader(testx,testy)"
   ]
  },
  {
   "cell_type": "code",
   "execution_count": 11,
   "metadata": {},
   "outputs": [
    {
     "data": {
      "text/plain": [
       "8000"
      ]
     },
     "execution_count": 11,
     "metadata": {},
     "output_type": "execute_result"
    }
   ],
   "source": [
    "len(train_loader)"
   ]
  },
  {
   "cell_type": "code",
   "execution_count": 12,
   "metadata": {},
   "outputs": [
    {
     "data": {
      "text/plain": [
       "2876"
      ]
     },
     "execution_count": 12,
     "metadata": {},
     "output_type": "execute_result"
    }
   ],
   "source": [
    "len(val_loader)"
   ]
  },
  {
   "cell_type": "markdown",
   "metadata": {},
   "source": [
    "### Define Train Structure"
   ]
  },
  {
   "cell_type": "code",
   "execution_count": 13,
   "metadata": {},
   "outputs": [
    {
     "name": "stdout",
     "output_type": "stream",
     "text": [
      "TwitterModel(\n",
      "  (layer1): Linear(in_features=314, out_features=728, bias=True)\n",
      "  (bnorm1): BatchNorm1d(728, eps=1e-05, momentum=0.1, affine=True, track_running_stats=True)\n",
      "  (dp1): Dropout(p=0.2)\n",
      "  (layer2): Linear(in_features=728, out_features=1024, bias=True)\n",
      "  (bnorm2): BatchNorm1d(1024, eps=1e-05, momentum=0.1, affine=True, track_running_stats=True)\n",
      "  (dp2): Dropout(p=0.1)\n",
      "  (layer3): Linear(in_features=1024, out_features=728, bias=True)\n",
      "  (bnorm3): BatchNorm1d(728, eps=1e-05, momentum=0.1, affine=True, track_running_stats=True)\n",
      "  (dp3): Dropout(p=0.1)\n",
      "  (layer4): Linear(in_features=728, out_features=600, bias=True)\n",
      "  (bnorm4): BatchNorm1d(600, eps=1e-05, momentum=0.1, affine=True, track_running_stats=True)\n",
      "  (dp4): Dropout(p=0.1)\n",
      "  (layer5): Linear(in_features=600, out_features=512, bias=True)\n",
      "  (bnorm5): BatchNorm1d(512, eps=1e-05, momentum=0.1, affine=True, track_running_stats=True)\n",
      "  (dp5): Dropout(p=0.1)\n",
      "  (layer6): Linear(in_features=512, out_features=256, bias=True)\n",
      "  (bnorm6): BatchNorm1d(256, eps=1e-05, momentum=0.1, affine=True, track_running_stats=True)\n",
      "  (dp6): Dropout(p=0.1)\n",
      "  (layer7): Linear(in_features=256, out_features=2, bias=True)\n",
      ")\n"
     ]
    }
   ],
   "source": [
    "class TwitterModel(nn.Module):\n",
    "    def __init__(self):\n",
    "        super(TwitterModel, self).__init__()\n",
    "        self.layer1 = nn.Linear(314, 728)\n",
    "        self.bnorm1 = nn.BatchNorm1d(728)\n",
    "        self.dp1 = nn.Dropout(p=0.2)\n",
    "        \n",
    "        self.layer2 = nn.Linear(728, 1024)\n",
    "        self.bnorm2 = nn.BatchNorm1d(1024)\n",
    "        self.dp2 = nn.Dropout(p=0.1)\n",
    "        \n",
    "        self.layer3 = nn.Linear(1024, 728)\n",
    "        self.bnorm3 = nn.BatchNorm1d(728)\n",
    "        self.dp3 = nn.Dropout(p=0.1)\n",
    "        \n",
    "        self.layer4 = nn.Linear(728, 600)\n",
    "        self.bnorm4 = nn.BatchNorm1d(600)\n",
    "        self.dp4 = nn.Dropout(p=0.1)\n",
    "        \n",
    "        self.layer5 = nn.Linear(600, 512)\n",
    "        self.bnorm5 = nn.BatchNorm1d(512)\n",
    "        self.dp5 = nn.Dropout(p=0.1)\n",
    "        \n",
    "        self.layer6 = nn.Linear(512, 256)\n",
    "        self.bnorm6 = nn.BatchNorm1d(256)\n",
    "        self.dp6 = nn.Dropout(p=0.1)\n",
    "        \n",
    "        self.layer7 = nn.Linear(256, 2)\n",
    "    \n",
    "    def forward(self, x):\n",
    "        x = F.relu(self.layer1(x))\n",
    "        x = self.dp1(self.bnorm1(x))\n",
    "            \n",
    "        x = F.relu(self.layer2(x))\n",
    "        x = self.dp2(self.bnorm2(x))\n",
    "        \n",
    "        x = F.relu(self.layer3(x))\n",
    "        x = self.dp3(self.bnorm3(x))\n",
    "        \n",
    "        x = F.relu(self.layer4(x))\n",
    "        x = self.dp4(self.bnorm4(x))\n",
    "        \n",
    "        x = F.relu(self.layer5(x))\n",
    "        x = self.dp5(self.bnorm5(x))\n",
    "        \n",
    "        x = F.relu(self.layer6(x))\n",
    "        x = self.dp6(self.bnorm6(x))\n",
    "        \n",
    "        x = F.log_softmax(self.layer7(x))\n",
    "        return x\n",
    "    \n",
    "print(TwitterModel())\n",
    "twittermodel = TwitterModel()"
   ]
  },
  {
   "cell_type": "markdown",
   "metadata": {},
   "source": [
    "### Define Batch Size, finalize Loader Object"
   ]
  },
  {
   "cell_type": "code",
   "execution_count": 14,
   "metadata": {},
   "outputs": [],
   "source": [
    "# Add dataset to dataloader that handles batching\n",
    "batch_size = 64\n",
    "# train_size = len(train.data)\n",
    "# val_size = len(dev.data)\n",
    "# test_size = test_data.test_data.shape[0]\n",
    "# batch_size = 100\n",
    "\n",
    "train_loader = torch.utils.data.DataLoader(train_loader, \n",
    "                                           batch_size=batch_size,\n",
    "                                           shuffle = True\n",
    "                                           )\n",
    "val_loader = torch.utils.data.DataLoader(val_loader, \n",
    "                                           batch_size=batch_size)\n",
    "# test_loader = torch.utils.data.DataLoader(test_data, batch_size=batch_size, shuffle=False)\n",
    "\n",
    "#test_loader = torch.utils.data.DataLoader(test_loader, \n",
    "#                                           batch_size=batch_size,\n",
    "#                                           shuffle = False)\n",
    "\n",
    "# Setup metric class\n",
    "Metric = namedtuple('Metric', ['loss', 'train_error', 'val_error'])"
   ]
  },
  {
   "cell_type": "markdown",
   "metadata": {},
   "source": [
    "### Define a Loss function and optimizer"
   ]
  },
  {
   "cell_type": "code",
   "execution_count": 15,
   "metadata": {},
   "outputs": [],
   "source": [
    "import torch.optim as optim\n",
    "\n",
    "criterion = nn.CrossEntropyLoss()\n",
    "\n",
    "optimizer = optim.Adam(twittermodel.parameters(), lr=0.001)\n",
    "# optimizer = optim.SGD(speechmodel.parameters(), lr = 0.001, momentum = 0.9, weight_decay = 0.001)\n",
    "#device = torch.device(\"cuda:0\" if torch.cuda.is_available() else \"cpu\")\n",
    "\n",
    "# Decay LR by a factor of 0.1 every 7 epochs\n",
    "scheduler = lr_scheduler.StepLR(optimizer, step_size=4, gamma=0.1)"
   ]
  },
  {
   "cell_type": "code",
   "execution_count": 16,
   "metadata": {},
   "outputs": [],
   "source": [
    "#device = torch.device(\"cuda:0\" if torch.cuda.is_available() else \"cpu\")"
   ]
  },
  {
   "cell_type": "code",
   "execution_count": 17,
   "metadata": {},
   "outputs": [],
   "source": [
    "#print(device)"
   ]
  },
  {
   "cell_type": "code",
   "execution_count": 18,
   "metadata": {},
   "outputs": [],
   "source": [
    "# train_size = len(train.data)\n",
    "# val_size = len(dev.data)\n",
    "# train_size,val_size"
   ]
  },
  {
   "cell_type": "markdown",
   "metadata": {},
   "source": [
    "### Train Function"
   ]
  },
  {
   "cell_type": "code",
   "execution_count": 40,
   "metadata": {},
   "outputs": [],
   "source": [
    "# def validation_inference(model, loader, n):\n",
    "#     correct = 0\n",
    "#     for data, label in loader:\n",
    "#         model = model.cuda()\n",
    "#         out = model(data)\n",
    "# #         pred = out.data.max(1, keepdim=True)[1]\n",
    "# #         predicted = pred.eq(Y.data.view_as(pred))\n",
    "#         _, predicted = torch.max(out,1)\n",
    "# #         correct += sum([predicted[i]==label[i] for i in range(len(predicted))])\n",
    "#         correct += torch.sum(predicted == label)\n",
    "#     return correct.double() / n\n",
    "\n",
    "def train_epoch(model, train_loader, val_loader, criterion, optimizer, epochs,train_size,val_size):\n",
    "    ini_time = time.time()\n",
    "    \n",
    "    # initial weight\n",
    "    best_model_wts = copy.deepcopy(model.state_dict())\n",
    "    best_acc = 0.0\n",
    "    \n",
    "    # metrics record statistics\n",
    "    metrics = []\n",
    "    acc = []\n",
    "    v_acc = []\n",
    "    # loop through each epoch\n",
    "    for epoch in range(epochs):\n",
    "            # set model to train model\n",
    "        model.train()\n",
    "        #model.to(device)\n",
    "        \n",
    "        scheduler.step()\n",
    "        \n",
    "        print('Epoch {}/{}'.format(epoch, epochs - 1))\n",
    "        print('-' * 10)\n",
    "        \n",
    "        # initialize the running loss to 0\n",
    "        epoch_loss = 0.0\n",
    "        correct = 0\n",
    "        start_time = time.time()\n",
    "        \n",
    "        for batch_idx, (data, label) in enumerate(train_loader):\n",
    "            \n",
    "            # refresh the parameter gradients\n",
    "            optimizer.zero_grad()\n",
    "            if batch_idx % 50 == 0:\n",
    "                print(' Progress %s: %d/%d'%(epoch,batch_idx,len(train_loader)))\n",
    "            #data = data.to(device)\n",
    "            #label = label.long().to(device)\n",
    "            label = label.long()\n",
    "            # forward + backward + optimize\n",
    "            outputs = model(data)\n",
    "            _, predicted = torch.max(outputs,1)\n",
    "            correct += torch.sum(predicted == label)\n",
    "            loss = criterion(outputs, label)\n",
    "            \n",
    "            loss.backward()\n",
    "            optimizer.step()\n",
    "            \n",
    "            # accumulate loss\n",
    "            epoch_loss += loss.item() \n",
    "        \n",
    "        # end of an epoch\n",
    "        end_time = time.time()\n",
    "        print('Epoch %d Training Loss: '%(epoch+1), epoch_loss, 'Time: ',end_time - start_time, 's')\n",
    "        \n",
    "        # print statistics\n",
    "        total_loss = epoch_loss/train_size\n",
    "        train_error = 1.0 - correct.double()/train_size\n",
    "        train_acc = correct.double()/train_size\n",
    "        \n",
    "        \n",
    "        # validation process\n",
    "        val_correct = 0\n",
    "        model.eval()\n",
    "        \n",
    "        with torch.no_grad():\n",
    "            for batch_idx, (val_data, val_label) in enumerate(val_loader):\n",
    "\n",
    "                #val_data = val_data.to(device)\n",
    "                #val_label = val_label.long().to(device)\n",
    "                val_label = val_label.long()\n",
    "                out = model(val_data)\n",
    "                _, val_predicted = torch.max(out,1)\n",
    "                val_correct += torch.sum(val_predicted == val_label)\n",
    "                \n",
    "            val_acc = val_correct.double() / val_size\n",
    "            val_error = 1.0 - val_acc\n",
    "\n",
    "            # record best weights\n",
    "            if val_acc > best_acc:\n",
    "                best_acc = val_acc\n",
    "                best_model_wts = copy.deepcopy(model.state_dict())\n",
    "                \n",
    "#         print(\"epoch: {0}, loss: {1:.8f}\".format(epoch+1, total_loss))\n",
    "        print(\"epoch: {0}, acc: {1:.8f}\".format(epoch+1, val_acc))\n",
    "        metrics.append(Metric(loss=total_loss, \n",
    "                              train_error=train_error,\n",
    "                              val_error=val_error))\n",
    "        acc.append(train_acc)\n",
    "        v_acc.append(val_acc)\n",
    "    # end of total training\n",
    "    time_elapsed = time.time() - ini_time\n",
    "    \n",
    "    print('Training complete in {:.0f}m {:.0f}s'.format(\n",
    "    time_elapsed // 60, time_elapsed % 60))\n",
    "    print('Best val Acc: {:4f}'.format(best_acc))\n",
    "\n",
    "    # load best model weights\n",
    "    model.load_state_dict(best_model_wts)\n",
    "    \n",
    "    return model,metrics,acc,v_acc"
   ]
  },
  {
   "cell_type": "code",
   "execution_count": 41,
   "metadata": {},
   "outputs": [
    {
     "name": "stdout",
     "output_type": "stream",
     "text": [
      "Epoch 0/11\n",
      "----------\n",
      " Progress 0: 0/125\n"
     ]
    },
    {
     "name": "stderr",
     "output_type": "stream",
     "text": [
      "/anaconda3/lib/python3.7/site-packages/ipykernel_launcher.py:49: UserWarning: Implicit dimension choice for log_softmax has been deprecated. Change the call to include dim=X as an argument.\n"
     ]
    },
    {
     "name": "stdout",
     "output_type": "stream",
     "text": [
      " Progress 0: 50/125\n",
      " Progress 0: 100/125\n",
      "Epoch 1 Training Loss:  57.51078912615776 Time:  13.205569982528687 s\n",
      "epoch: 1, acc: 0.76112656\n",
      "Epoch 1/11\n",
      "----------\n",
      " Progress 1: 0/125\n",
      " Progress 1: 50/125\n",
      " Progress 1: 100/125\n",
      "Epoch 2 Training Loss:  57.143183559179306 Time:  13.483766078948975 s\n",
      "epoch: 2, acc: 0.76460362\n",
      "Epoch 2/11\n",
      "----------\n",
      " Progress 2: 0/125\n",
      " Progress 2: 50/125\n",
      " Progress 2: 100/125\n",
      "Epoch 3 Training Loss:  57.44853550195694 Time:  12.883489847183228 s\n",
      "epoch: 3, acc: 0.76147427\n",
      "Epoch 3/11\n",
      "----------\n",
      " Progress 3: 0/125\n",
      " Progress 3: 50/125\n",
      " Progress 3: 100/125\n",
      "Epoch 4 Training Loss:  57.3496273458004 Time:  13.1963210105896 s\n",
      "epoch: 4, acc: 0.75904033\n",
      "Epoch 4/11\n",
      "----------\n",
      " Progress 4: 0/125\n",
      " Progress 4: 50/125\n",
      " Progress 4: 100/125\n",
      "Epoch 5 Training Loss:  57.3780662715435 Time:  13.121220111846924 s\n",
      "epoch: 5, acc: 0.76321280\n",
      "Epoch 5/11\n",
      "----------\n",
      " Progress 5: 0/125\n",
      " Progress 5: 50/125\n",
      " Progress 5: 100/125\n",
      "Epoch 6 Training Loss:  57.401452511548996 Time:  13.388077020645142 s\n",
      "epoch: 6, acc: 0.76529903\n",
      "Epoch 6/11\n",
      "----------\n",
      " Progress 6: 0/125\n",
      " Progress 6: 50/125\n",
      " Progress 6: 100/125\n",
      "Epoch 7 Training Loss:  57.50105184316635 Time:  13.150897026062012 s\n",
      "epoch: 7, acc: 0.76286509\n",
      "Epoch 7/11\n",
      "----------\n",
      " Progress 7: 0/125\n",
      " Progress 7: 50/125\n",
      " Progress 7: 100/125\n",
      "Epoch 8 Training Loss:  57.023738116025925 Time:  12.676685810089111 s\n",
      "epoch: 8, acc: 0.76251739\n",
      "Epoch 8/11\n",
      "----------\n",
      " Progress 8: 0/125\n",
      " Progress 8: 50/125\n",
      " Progress 8: 100/125\n",
      "Epoch 9 Training Loss:  57.32727113366127 Time:  13.069490194320679 s\n",
      "epoch: 9, acc: 0.76356050\n",
      "Epoch 9/11\n",
      "----------\n",
      " Progress 9: 0/125\n",
      " Progress 9: 50/125\n",
      " Progress 9: 100/125\n",
      "Epoch 10 Training Loss:  57.324357599020004 Time:  12.897622108459473 s\n",
      "epoch: 10, acc: 0.76182197\n",
      "Epoch 10/11\n",
      "----------\n",
      " Progress 10: 0/125\n",
      " Progress 10: 50/125\n",
      " Progress 10: 100/125\n",
      "Epoch 11 Training Loss:  57.22902873158455 Time:  12.844918966293335 s\n",
      "epoch: 11, acc: 0.76147427\n",
      "Epoch 11/11\n",
      "----------\n",
      " Progress 11: 0/125\n",
      " Progress 11: 50/125\n",
      " Progress 11: 100/125\n",
      "Epoch 12 Training Loss:  57.34165835380554 Time:  12.819010019302368 s\n",
      "epoch: 12, acc: 0.75973574\n",
      "Training complete in 2m 48s\n",
      "Best val Acc: 0.765299\n"
     ]
    }
   ],
   "source": [
    "model_ft,metrics,acc,v_acc = train_epoch(twittermodel, train_loader, val_loader, criterion, optimizer, 12,train_size,val_size)"
   ]
  },
  {
   "cell_type": "code",
   "execution_count": 42,
   "metadata": {},
   "outputs": [
    {
     "data": {
      "text/plain": [
       "[tensor(0.7935, dtype=torch.float64),\n",
       " tensor(0.7959, dtype=torch.float64),\n",
       " tensor(0.7954, dtype=torch.float64),\n",
       " tensor(0.7963, dtype=torch.float64),\n",
       " tensor(0.7991, dtype=torch.float64),\n",
       " tensor(0.7934, dtype=torch.float64),\n",
       " tensor(0.7967, dtype=torch.float64),\n",
       " tensor(0.7976, dtype=torch.float64),\n",
       " tensor(0.7980, dtype=torch.float64),\n",
       " tensor(0.7965, dtype=torch.float64),\n",
       " tensor(0.7974, dtype=torch.float64),\n",
       " tensor(0.7963, dtype=torch.float64)]"
      ]
     },
     "execution_count": 42,
     "metadata": {},
     "output_type": "execute_result"
    }
   ],
   "source": [
    "acc"
   ]
  },
  {
   "cell_type": "code",
   "execution_count": 45,
   "metadata": {},
   "outputs": [
    {
     "data": {
      "image/png": "[encoded data removed]",
      "text/plain": [
       "<Figure size 432x288 with 1 Axes>"
      ]
     },
     "metadata": {
      "needs_background": "light"
     },
     "output_type": "display_data"
    }
   ],
   "source": [
    "# plot the accuracy rates for each epoch on training and validation data\n",
    "# acc = history.history['acc']\n",
    "# val_acc = history.history['val_acc']\n",
    "epochs = range(1, len(acc) + 1)\n",
    "plt.plot(epochs, acc, 'bo', label='Training acc')\n",
    "plt.plot(epochs, v_acc, 'b', label='Validation acc')\n",
    "plt.title('Training and validation accuracy')\n",
    "plt.legend()\n",
    "plt.show()"
   ]
  },
  {
   "cell_type": "code",
   "execution_count": null,
   "metadata": {},
   "outputs": [],
   "source": []
  }
 ],
 "metadata": {
  "kernelspec": {
   "display_name": "Python 3",
   "language": "python",
   "name": "python3"
  },
  "language_info": {
   "codemirror_mode": {
    "name": "ipython",
    "version": 3
   },
   "file_extension": ".py",
   "mimetype": "text/x-python",
   "name": "python",
   "nbconvert_exporter": "python",
   "pygments_lexer": "ipython3",
   "version": "3.6.5"
  }
 },
 "nbformat": 4,
 "nbformat_minor": 2
}
